{
  "nbformat": 4,
  "nbformat_minor": 0,
  "metadata": {
    "colab": {
      "provenance": [],
      "gpuType": "T4"
    },
    "kernelspec": {
      "name": "python3",
      "display_name": "Python 3"
    },
    "language_info": {
      "name": "python"
    },
    "accelerator": "GPU"
  },
  "cells": [
    {
      "cell_type": "code",
      "execution_count": 1,
      "metadata": {
        "colab": {
          "base_uri": "https://localhost:8080/"
        },
        "id": "vuIm8Jd0SBen",
        "outputId": "230ecabc-ed12-433d-d721-d347bf6bdc05"
      },
      "outputs": [
        {
          "output_type": "stream",
          "name": "stdout",
          "text": [
            "Mounted at /content/gdrive\n"
          ]
        }
      ],
      "source": [
        "from google.colab import drive\n",
        "drive.mount( '/content/gdrive' )\n"
      ]
    },
    {
      "cell_type": "code",
      "source": [
        "%cd /content/gdrive/MyDrive/TRAFFIC_DETECTION"
      ],
      "metadata": {
        "colab": {
          "base_uri": "https://localhost:8080/"
        },
        "id": "roKYRgQ6TjTd",
        "outputId": "1336b8fd-73a0-4b5d-8f2a-5027a8870f4a"
      },
      "execution_count": 2,
      "outputs": [
        {
          "output_type": "stream",
          "name": "stdout",
          "text": [
            "/content/gdrive/MyDrive/TRAFFIC_DETECTION\n"
          ]
        }
      ]
    },
    {
      "cell_type": "code",
      "source": [
        "!unzip -q /content/gdrive/MyDrive/TRAFFIC_DETECTION/datasheet.zip -d /content/gdrive/MyDrive/TRAFFIC_DETECTION"
      ],
      "metadata": {
        "id": "WNTA6ZYg1SiK"
      },
      "execution_count": 3,
      "outputs": []
    },
    {
      "cell_type": "code",
      "source": [
        "!git clone https://github.com/ultralytics/yolov5"
      ],
      "metadata": {
        "colab": {
          "base_uri": "https://localhost:8080/"
        },
        "id": "jgkTzcfoTro7",
        "outputId": "4de47082-17b6-4e71-95d2-ca4350d05207"
      },
      "execution_count": null,
      "outputs": [
        {
          "output_type": "stream",
          "name": "stdout",
          "text": [
            "Cloning into 'yolov5'...\n",
            "remote: Enumerating objects: 15831, done.\u001b[K\n",
            "remote: Total 15831 (delta 0), reused 0 (delta 0), pack-reused 15831\u001b[K\n",
            "Receiving objects: 100% (15831/15831), 14.48 MiB | 15.89 MiB/s, done.\n",
            "Resolving deltas: 100% (10869/10869), done.\n"
          ]
        }
      ]
    },
    {
      "cell_type": "code",
      "source": [
        "%pip install -qr /content/gdrive/MyDrive/TRAFFIC_DETECTION/yolov5/requirements.txt  # install"
      ],
      "metadata": {
        "colab": {
          "base_uri": "https://localhost:8080/"
        },
        "id": "ARi7RetETv3S",
        "outputId": "91a625f1-019e-4468-e5c7-798c6f444fdb"
      },
      "execution_count": 4,
      "outputs": [
        {
          "output_type": "stream",
          "name": "stdout",
          "text": [
            "\u001b[2K     \u001b[90m━━━━━━━━━━━━━━━━━━━━━━━━━━━━━━━━━━━━━━━\u001b[0m \u001b[32m184.3/184.3 kB\u001b[0m \u001b[31m5.6 MB/s\u001b[0m eta \u001b[36m0:00:00\u001b[0m\n",
            "\u001b[2K     \u001b[90m━━━━━━━━━━━━━━━━━━━━━━━━━━━━━━━━━━━━━━\u001b[0m \u001b[32m593.1/593.1 kB\u001b[0m \u001b[31m21.8 MB/s\u001b[0m eta \u001b[36m0:00:00\u001b[0m\n",
            "\u001b[2K     \u001b[90m━━━━━━━━━━━━━━━━━━━━━━━━━━━━━━━━━━━━━━━━\u001b[0m \u001b[32m62.7/62.7 kB\u001b[0m \u001b[31m7.8 MB/s\u001b[0m eta \u001b[36m0:00:00\u001b[0m\n",
            "\u001b[?25h"
          ]
        }
      ]
    },
    {
      "cell_type": "code",
      "source": [
        "!python /content/gdrive/MyDrive/TRAFFIC_DETECTION/yolov5/train.py --img 640 --batch 8 --epochs 5 --data /content/gdrive/MyDrive/TRAFFIC_DETECTION/yolov5/data/coco128.yaml --weights yolov5x.pt"
      ],
      "metadata": {
        "id": "S_G6iSaiXc34"
      },
      "execution_count": null,
      "outputs": []
    }
  ]
}